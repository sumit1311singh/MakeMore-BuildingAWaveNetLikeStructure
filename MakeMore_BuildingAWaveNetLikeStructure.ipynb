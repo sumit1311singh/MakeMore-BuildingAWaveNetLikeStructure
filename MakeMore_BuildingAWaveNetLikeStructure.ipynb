{
  "nbformat": 4,
  "nbformat_minor": 0,
  "metadata": {
    "colab": {
      "provenance": []
    },
    "kernelspec": {
      "name": "python3",
      "display_name": "Python 3"
    },
    "language_info": {
      "name": "python"
    }
  },
  "cells": [
    {
      "cell_type": "code",
      "execution_count": 1,
      "metadata": {
        "id": "ijKNkeNK4wxm"
      },
      "outputs": [],
      "source": [
        "import torch\n",
        "import torch.nn.functional as F\n",
        "import matplotlib.pyplot as plt\n",
        "%matplotlib inline"
      ]
    },
    {
      "cell_type": "code",
      "source": [
        "# read in all the words\n",
        "words = open('/content/names.txt', 'r').read().splitlines()"
      ],
      "metadata": {
        "id": "f6l8bj1__5-F"
      },
      "execution_count": 2,
      "outputs": []
    },
    {
      "cell_type": "code",
      "source": [
        "# build the vocab of chars and mappings to/from intergers\n",
        "chars = sorted(list(set(''.join(words))))\n",
        "stoi = {s:i+1 for i, s in enumerate(chars)}\n",
        "stoi['.'] = 0\n",
        "itos = {i:s for s, i in stoi.items()}\n",
        "vocab_size = len(itos)\n",
        "print(itos)\n",
        "print(vocab_size)"
      ],
      "metadata": {
        "colab": {
          "base_uri": "https://localhost:8080/"
        },
        "id": "_w1rOhzH_9b2",
        "outputId": "6eeac9f1-b586-40c5-80ff-9ab8547b3d56"
      },
      "execution_count": 3,
      "outputs": [
        {
          "output_type": "stream",
          "name": "stdout",
          "text": [
            "{1: 'a', 2: 'b', 3: 'c', 4: 'd', 5: 'e', 6: 'f', 7: 'g', 8: 'h', 9: 'i', 10: 'j', 11: 'k', 12: 'l', 13: 'm', 14: 'n', 15: 'o', 16: 'p', 17: 'q', 18: 'r', 19: 's', 20: 't', 21: 'u', 22: 'v', 23: 'w', 24: 'x', 25: 'y', 26: 'z', 0: '.'}\n",
            "27\n"
          ]
        }
      ]
    },
    {
      "cell_type": "code",
      "source": [
        "# build the data set\n",
        "block_size = 8 # context length: how many chars do we take to predict the next one\n",
        "def build_dataset(words):\n",
        "   X, Y = [], []\n",
        "\n",
        "   for w in words:\n",
        "    context = [0] * block_size\n",
        "    for ch in w + '.':\n",
        "      idx = stoi[ch]\n",
        "      X.append(context)\n",
        "      Y.append(idx)\n",
        "      context = context[1:] + [idx] # crop and append\n",
        "\n",
        "   X=torch.tensor(X)\n",
        "   Y=torch.tensor(Y)\n",
        "   print(X.shape, Y.shape)\n",
        "   return X, Y"
      ],
      "metadata": {
        "id": "rDIhLQ01AB0d"
      },
      "execution_count": 4,
      "outputs": []
    },
    {
      "cell_type": "code",
      "source": [
        "import random\n",
        "random.seed(42)\n",
        "random.shuffle(words)\n",
        "n1 = int(0.8*len(words))\n",
        "n2 = int(0.9*len(words))\n",
        "\n",
        "Xtr, Ytr = build_dataset(words[:n1])\n",
        "Xval, Yval = build_dataset(words[n1:n2])\n",
        "Xte, Yte = build_dataset(words[n2:])"
      ],
      "metadata": {
        "colab": {
          "base_uri": "https://localhost:8080/"
        },
        "id": "VtZfsQiXAEM6",
        "outputId": "f8f71df7-cf84-44ba-bed0-1673c35e79e7"
      },
      "execution_count": 5,
      "outputs": [
        {
          "output_type": "stream",
          "name": "stdout",
          "text": [
            "torch.Size([182625, 8]) torch.Size([182625])\n",
            "torch.Size([22655, 8]) torch.Size([22655])\n",
            "torch.Size([22866, 8]) torch.Size([22866])\n"
          ]
        }
      ]
    },
    {
      "cell_type": "code",
      "source": [
        "for x, y in zip(Xtr[:20], Ytr[:20]):\n",
        "  print(''.join(itos[idx.item()] for idx in x), '--->', itos[y.item()])"
      ],
      "metadata": {
        "colab": {
          "base_uri": "https://localhost:8080/"
        },
        "id": "5cLk9ISCNzg1",
        "outputId": "200ff60a-69c2-4924-8837-d4912ba26b93"
      },
      "execution_count": 6,
      "outputs": [
        {
          "output_type": "stream",
          "name": "stdout",
          "text": [
            "........ ---> y\n",
            ".......y ---> u\n",
            "......yu ---> h\n",
            ".....yuh ---> e\n",
            "....yuhe ---> n\n",
            "...yuhen ---> g\n",
            "..yuheng ---> .\n",
            "........ ---> d\n",
            ".......d ---> i\n",
            "......di ---> o\n",
            ".....dio ---> n\n",
            "....dion ---> d\n",
            "...diond ---> r\n",
            "..diondr ---> e\n",
            ".diondre ---> .\n",
            "........ ---> x\n",
            ".......x ---> a\n",
            "......xa ---> v\n",
            ".....xav ---> i\n",
            "....xavi ---> e\n"
          ]
        }
      ]
    },
    {
      "cell_type": "code",
      "source": [
        "'''\n",
        "following is what happens in the linear layer\n",
        "torch.randn(4, 80) @ torch.randn(80, 200) + torch.randn(200)\n",
        "\n",
        "Goal:\n",
        "The goal is to modify the linear and flatten layers such that,\n",
        "the flatten layer does not completely flatten the layer (4, 80), rather creates a (4, 4, 20) vector\n",
        "and then the linear layer should expect a (4, 4, 20) vector as an input\n",
        "\n",
        "-- find the reason for doing the above step\n",
        "-> is it for easier/faster calculcation\n",
        "-> or does it give better result\n",
        "'''"
      ],
      "metadata": {
        "id": "s_Gp8iCto0PM"
      },
      "execution_count": null,
      "outputs": []
    },
    {
      "cell_type": "code",
      "source": [
        "class Linear:\n",
        "\n",
        "  def __init__(self, fan_in, fan_out, bias=True):\n",
        "    self.weight = torch.randn((fan_in, fan_out)) / fan_in ** 0.5 # kaiming init\n",
        "    self.bias = torch.randn(fan_out) if bias else None\n",
        "\n",
        "  def __call__(self, x):\n",
        "    self.out = x @ self.weight\n",
        "    if self.bias is not None:\n",
        "      self.out += self.bias\n",
        "    return self.out\n",
        "\n",
        "  def parameters(self):\n",
        "    return [self.weight] + ([] if self.bias is None else [self.bias])\n",
        "\n",
        "#------------------------------------------------------------------------------------------\n",
        "class BatchNorm1d:\n",
        "\n",
        "  def __init__(self, dim, eps = 1e-5, momentum = 0.1):\n",
        "    self.eps = eps\n",
        "    self.momentum = momentum\n",
        "    self.training = True\n",
        "    # parameters (trained with backprop)\n",
        "    self.gamma = torch.ones(dim)\n",
        "    self.beta = torch.zeros(dim)\n",
        "    # buffers (trained with a runnign 'momentum update')\n",
        "    self.running_mean = torch.zeros(dim)\n",
        "    self.running_var = torch.ones(dim)\n",
        "\n",
        "  def __call__(self, x):\n",
        "    # calculate the forward pass\n",
        "    if self.training:\n",
        "      if x.ndim == 2:\n",
        "        dim = 0\n",
        "      elif x.ndim == 3:\n",
        "        dim = (0,1)\n",
        "      xmean = x.mean(dim, keepdim = True) # batch mean\n",
        "      xvar = x.var(dim, keepdim=True) # batch variance\n",
        "    else:\n",
        "      xmean = self.running_mean\n",
        "      xvar = self.running_var\n",
        "    xhat = (x - xmean) / torch.sqrt(xvar + self.eps) # normalize to unit variance\n",
        "    self.out = self.gamma * xhat + self.beta\n",
        "    # update the buffers\n",
        "    if self.training:\n",
        "      with torch.no_grad():\n",
        "        self.running_mean = (1 - self.momentum) * self.running_mean + self.momentum * xmean\n",
        "        self.running_var = (1 - self.momentum) * self.running_var + self.momentum * xvar\n",
        "    return self.out\n",
        "\n",
        "  def parameters(self):\n",
        "    return [self.gamma, self.beta]\n",
        "\n",
        "#------------------------------------------------------------------------------------------\n",
        "class Tanh:\n",
        "\n",
        "  def __call__(self, x):\n",
        "    self.out = torch.tanh(x)\n",
        "    return self.out\n",
        "\n",
        "  def parameters(self):\n",
        "    return []\n",
        "\n",
        "#------------------------------------------------------------------------------------------\n",
        "class Embedding:\n",
        "\n",
        "  def __init__(self, num_embeddings, embedding_dim):\n",
        "    self.weight = torch.randn((num_embeddings, embedding_dim))\n",
        "\n",
        "  def __call__(self, IDX):\n",
        "    self.out = self.weight[IDX]\n",
        "    return self.out\n",
        "\n",
        "  def parameters(self):\n",
        "    return [self.weight]\n",
        "\n",
        "#------------------------------------------------------------------------------------------\n",
        "'''\n",
        "class Flatten:\n",
        "\n",
        "  def __call__(self, x):\n",
        "    self.out = x.view(x.shape[0], -1)\n",
        "    return self.out\n",
        "\n",
        "  def parameters(self):\n",
        "    return []\n",
        "'''\n",
        "class FlattenConsecutive:\n",
        "\n",
        "  def __init__(self, n):\n",
        "    self.n = n\n",
        "\n",
        "  def __call__(self, x):\n",
        "    B, T, C = x.shape\n",
        "    x = x.view(B, T//self.n, C*self.n) #  x = x.view(B, -1, C*n)\n",
        "    if x.shape[1] == 1: # spurious dimention\n",
        "      x = x.squeeze(1)\n",
        "    self.out = x\n",
        "    return self.out\n",
        "\n",
        "  def parameters(self):\n",
        "    return []\n",
        "\n",
        "#------------------------------------------------------------------------------------------\n",
        "class Sequential:\n",
        "\n",
        "  def __init__(self, layers):\n",
        "    self.layers = layers\n",
        "\n",
        "  def __call__(self, x):\n",
        "    for layer in self.layers:\n",
        "      x = layer(x)\n",
        "    self.out = x\n",
        "    return self.out\n",
        "\n",
        "  def parameters(self):\n",
        "    return [p for layer in self.layers for p in layer.parameters()]"
      ],
      "metadata": {
        "id": "vZX60PyfOQ1q"
      },
      "execution_count": 44,
      "outputs": []
    },
    {
      "cell_type": "code",
      "source": [
        "'''\n",
        "Layer\t                      Operation Description\t                                            Output Shape\n",
        "\n",
        "Embedding(vocab_size, C)\t  Each token (int) → C-dimensional vector\t                          (4, 8, 10)\n",
        "\n",
        "FlattenConsecutive\t        Group every 2 consecutive tokens → concatenate their embeddings\t  (4, 4, 20)\n",
        "\n",
        "Linear(20, 200)\t            Fully connected layer applied to each of the 4 token-pairs\t      (4, 4, 200)\n",
        "\n",
        "BatchNorm1d(200)\t          Normalize across batch for each of the 200 features\t              (4, 4, 200)\n",
        "\n",
        "Tanh()\t                    Non-linear activation\t                                            (4, 4, 200)\n",
        "\n",
        "FlattenConsecutive\t        Group every 2 of the 4 token-pairs → concatenate again\t          (4, 2, 400)\n",
        "\n",
        "Linear(400, 200)\t          Another fully connected layer\t                                    (4, 2, 200)\n",
        "\n",
        "BatchNorm1d(200)\t          Normalize again\t                                                  (4, 2, 200)\n",
        "\n",
        "Tanh()\t                    Activation\t                                                      (4, 2, 200)\n",
        "\n",
        "FlattenConsecutive\t        Final grouping → flatten to one vector per example\t              (4, 400)\n",
        "\n",
        "Linear(400, 200)\t          Final hidden layer\t                                              (4, 200)\n",
        "\n",
        "BatchNorm1d(200)\t          Normalize\t                                                        (4, 200)\n",
        "\n",
        "Tanh()\t                    Activation\t                                                      (4, 200)\n",
        "\n",
        "Linear(200, vocab_size)\t    Output logits for each character in vocab (27 classes)\t          (4, 27)\n",
        "'''"
      ],
      "metadata": {
        "id": "3IHAgGzahcZH"
      },
      "execution_count": null,
      "outputs": []
    },
    {
      "cell_type": "code",
      "source": [
        "torch.manual_seed(42);"
      ],
      "metadata": {
        "id": "V5973458SBVC"
      },
      "execution_count": 45,
      "outputs": []
    },
    {
      "cell_type": "code",
      "source": [
        "# MLP\n",
        "n_embd = 24 # Dimensionality of the character embedding vectors\n",
        "n_hidden = 128 # the number of neurons in the hidden layer of the MLP\n",
        "\n",
        "'''\n",
        "layers = [\n",
        "    Embedding(vocab_size, n_embd),\n",
        "    Flatten(),\n",
        "    Linear(n_embd * block_size, n_hidden, bias = False), BatchNorm1d(n_hidden), Tanh(),\n",
        "    Linear(n_hidden, vocab_size),\n",
        "]\n",
        "\n",
        "# parameter init\n",
        "with torch.no_grad():\n",
        "  layers[-1].weight *= 0.1 # make last layer less confident\n",
        "\n",
        "parameters = [p for layer in layers for p in layer.parameters()]\n",
        "'''\n",
        "\n",
        "model = Sequential([\n",
        "    Embedding(vocab_size, n_embd),\n",
        "    FlattenConsecutive(2), Linear(n_embd * 2, n_hidden, bias = False), BatchNorm1d(n_hidden), Tanh(),\n",
        "    FlattenConsecutive(2), Linear(n_hidden * 2, n_hidden, bias = False), BatchNorm1d(n_hidden), Tanh(),\n",
        "    FlattenConsecutive(2), Linear(n_hidden * 2, n_hidden, bias = False), BatchNorm1d(n_hidden), Tanh(),\n",
        "    Linear(n_hidden, vocab_size),\n",
        "])\n",
        "\n",
        "with torch.no_grad():\n",
        "  model.layers[-1].weight *= 0.1 # make last layer less confident\n",
        "parameters = model.parameters()\n",
        "\n",
        "print(sum(p.nelement() for p in parameters))\n",
        "for p in parameters:\n",
        "  p.requires_grad = True"
      ],
      "metadata": {
        "id": "E_Zq5tbcAGv1",
        "colab": {
          "base_uri": "https://localhost:8080/"
        },
        "outputId": "f7e999a4-a69d-4172-b802-a42bbdbd4c6e"
      },
      "execution_count": 46,
      "outputs": [
        {
          "output_type": "stream",
          "name": "stdout",
          "text": [
            "76579\n"
          ]
        }
      ]
    },
    {
      "cell_type": "code",
      "source": [
        "idx = torch.randint(0, Xtr.shape[0], (32,)) # let's  look at a batch of just 4 examples\n",
        "Xb, Yb = Xtr[idx], Ytr[idx]\n",
        "logits = model(Xb)\n",
        "print(Xb.shape)\n",
        "#Xb"
      ],
      "metadata": {
        "colab": {
          "base_uri": "https://localhost:8080/"
        },
        "id": "lgf_YIdgyDSt",
        "outputId": "c57cfb0e-cf42-4227-f458-e9acdfa4d6e3"
      },
      "execution_count": 34,
      "outputs": [
        {
          "output_type": "stream",
          "name": "stdout",
          "text": [
            "torch.Size([32, 8])\n"
          ]
        }
      ]
    },
    {
      "cell_type": "code",
      "source": [
        "for layer in model.layers:\n",
        "  print(layer.__class__.__name__, ':', tuple(layer.out.shape))"
      ],
      "metadata": {
        "colab": {
          "base_uri": "https://localhost:8080/"
        },
        "id": "B56theDFyl62",
        "outputId": "7de0156c-0d2e-4c9f-b975-7e97c2a057f4"
      },
      "execution_count": 42,
      "outputs": [
        {
          "output_type": "stream",
          "name": "stdout",
          "text": [
            "Embedding : (32, 8, 10)\n",
            "FlattenConsecutive : (32, 4, 20)\n",
            "Linear : (32, 4, 68)\n",
            "BatchNorm1d : (32, 4, 68)\n",
            "Tanh : (32, 4, 68)\n",
            "FlattenConsecutive : (32, 2, 136)\n",
            "Linear : (32, 2, 68)\n",
            "BatchNorm1d : (32, 2, 68)\n",
            "Tanh : (32, 2, 68)\n",
            "FlattenConsecutive : (32, 136)\n",
            "Linear : (32, 68)\n",
            "BatchNorm1d : (32, 68)\n",
            "Tanh : (32, 68)\n",
            "Linear : (32, 27)\n"
          ]
        }
      ]
    },
    {
      "cell_type": "code",
      "source": [
        "'''\n",
        "We initially had a small bug in the batch norm layer\n",
        "If you look at the code, we calculate the mean and variance accross the 0th dimention\n",
        "It was correct until we did not use the Flatten Consecutive, as with Flatten the input x was supposed to be 2 dim\n",
        "Now with Flatten Consecutive, x (input for batch norm) is 3 dim, so we will have to calculate mean and var accross dim 0 and 1\n",
        "So basically what we are doing is keep the stats (mean, var) individually for all the 4 (in our eg. case) independently\n",
        "Instead what we want to do is to keep the stats for these 4 positions combined (treat is as a batch dim)\n",
        "So we don't to calculate for 32 numbers, rather we want to calculate over 32*4 numbers for every single one of the 68 channels\n",
        "\n",
        "The reason of not getting an error is broadcasting, but that does not mean it isn't a bug\n",
        "\n",
        "'''\n",
        "e = torch.randn(32, 4, 68)\n",
        "emean = e.mean(0, keepdim=True) # 1, 4, 68\n",
        "evar = e.var(0, keepdim=True) # 1, 4, 68\n",
        "ehat = (e - emean) / torch.sqrt(evar + 1e-5) # 32, 4, 68\n",
        "print(model.layers[3].running_mean.shape)\n",
        "emean.shape, evar.shape, ehat.shape"
      ],
      "metadata": {
        "colab": {
          "base_uri": "https://localhost:8080/"
        },
        "id": "JkjyqowOa_To",
        "outputId": "c622ffd0-217a-4315-90a3-9098599b6bf9"
      },
      "execution_count": 37,
      "outputs": [
        {
          "output_type": "stream",
          "name": "stdout",
          "text": [
            "torch.Size([1, 4, 68])\n"
          ]
        },
        {
          "output_type": "execute_result",
          "data": {
            "text/plain": [
              "(torch.Size([1, 4, 68]), torch.Size([1, 4, 68]), torch.Size([32, 4, 68]))"
            ]
          },
          "metadata": {},
          "execution_count": 37
        }
      ]
    },
    {
      "cell_type": "code",
      "source": [
        "# Optimization\n",
        "max_steps = 200000\n",
        "batch_size = 32\n",
        "loss_i = []\n",
        "\n",
        "for i in range(max_steps):\n",
        "\n",
        "  # mini-batch construct\n",
        "  idx = torch.randint(0, Xtr.shape[0], (batch_size,))\n",
        "  Xb, Yb = Xtr[idx], Ytr[idx] # batch X, Y\n",
        "\n",
        "  # forward pass\n",
        "  '''\n",
        "  No longer required\n",
        "  emb = C[Xb] # embed the characters into vectors\n",
        "  x = emb.view(emb.shape[0], -1) # concat the vectors\n",
        "  '''\n",
        "  '''\n",
        "  x = Xb\n",
        "  for layer in layers:\n",
        "    x = layer(x)\n",
        "  loss = F.cross_entropy(x, Yb) # loss function\n",
        "  '''\n",
        "  logits = model(Xb)\n",
        "  loss = F.cross_entropy(logits, Yb)\n",
        "\n",
        "  # backward pass\n",
        "  for p in parameters:\n",
        "    p.grad = None\n",
        "  loss.backward()\n",
        "\n",
        "  # update\n",
        "  lr = 0.1 if i<150000 else 0.01 # learning rate decay\n",
        "  for p in parameters:\n",
        "    p.data += -lr * p.grad\n",
        "\n",
        "  # track stats\n",
        "  if i%10000 == 0:\n",
        "    print(f'{i:7d}/{max_steps:7d}: {loss.item(): .4f}')\n",
        "  loss_i.append(loss.log10().item())\n",
        "\n",
        "  #break"
      ],
      "metadata": {
        "id": "b1AFmuekAMGU",
        "colab": {
          "base_uri": "https://localhost:8080/"
        },
        "outputId": "e494fb32-b91b-447f-c125-73e5f1722f64"
      },
      "execution_count": 47,
      "outputs": [
        {
          "output_type": "stream",
          "name": "stdout",
          "text": [
            "      0/ 200000:  4.6212\n",
            "  10000/ 200000:  2.1471\n",
            "  20000/ 200000:  1.5086\n",
            "  30000/ 200000:  2.1991\n",
            "  40000/ 200000:  2.0678\n",
            "  50000/ 200000:  1.8112\n",
            "  60000/ 200000:  2.3209\n",
            "  70000/ 200000:  1.9109\n",
            "  80000/ 200000:  1.5973\n",
            "  90000/ 200000:  1.8337\n",
            " 100000/ 200000:  2.0202\n",
            " 110000/ 200000:  2.2274\n",
            " 120000/ 200000:  1.8608\n",
            " 130000/ 200000:  2.1748\n",
            " 140000/ 200000:  1.7984\n",
            " 150000/ 200000:  2.0833\n",
            " 160000/ 200000:  2.1611\n",
            " 170000/ 200000:  1.7996\n",
            " 180000/ 200000:  1.7231\n",
            " 190000/ 200000:  1.8489\n"
          ]
        }
      ]
    },
    {
      "cell_type": "code",
      "source": [
        "plt.plot(loss_i)"
      ],
      "metadata": {
        "colab": {
          "base_uri": "https://localhost:8080/",
          "height": 447
        },
        "id": "ZAkRdlGHT-Mo",
        "outputId": "327df60a-0d86-4303-9a9c-67510f26f334"
      },
      "execution_count": 48,
      "outputs": [
        {
          "output_type": "execute_result",
          "data": {
            "text/plain": [
              "[<matplotlib.lines.Line2D at 0x7906a5228410>]"
            ]
          },
          "metadata": {},
          "execution_count": 48
        },
        {
          "output_type": "display_data",
          "data": {
            "text/plain": [
              "<Figure size 640x480 with 1 Axes>"
            ],
            "image/png": "[encoded data removed]"
          },
          "metadata": {}
        }
      ]
    },
    {
      "cell_type": "code",
      "source": [
        "plt.plot(torch.tensor(loss_i).view(200, 1000).mean(1))"
      ],
      "metadata": {
        "colab": {
          "base_uri": "https://localhost:8080/",
          "height": 447
        },
        "id": "tBC7L7EVaYM7",
        "outputId": "eba012c2-fdb0-46a3-e07c-f4ad1e457192"
      },
      "execution_count": 49,
      "outputs": [
        {
          "output_type": "execute_result",
          "data": {
            "text/plain": [
              "[<matplotlib.lines.Line2D at 0x7906a0067470>]"
            ]
          },
          "metadata": {},
          "execution_count": 49
        },
        {
          "output_type": "display_data",
          "data": {
            "text/plain": [
              "<Figure size 640x480 with 1 Axes>"
            ],
            "image/png": "[encoded data removed]"
          },
          "metadata": {}
        }
      ]
    },
    {
      "cell_type": "code",
      "source": [
        "# put layers into eval mode (neede for batchnorm especially)\n",
        "'''\n",
        "for layer in layers:\n",
        "  layer.training = False\n",
        "'''\n",
        "for layer in model.layers:\n",
        "  layer.training = False"
      ],
      "metadata": {
        "id": "BCjivdTVUTd8"
      },
      "execution_count": 50,
      "outputs": []
    },
    {
      "cell_type": "code",
      "source": [
        "# evaluate the loss\n",
        "@ torch.no_grad()\n",
        "def split_loss(split):\n",
        "  x, y = {\n",
        "      'train': (Xtr, Ytr),\n",
        "      'val': (Xval, Yval),\n",
        "      'test': (Xte, Yte),\n",
        "  }[split]\n",
        "  '''\n",
        "  emb = C[x] # (N, block_size, n_embd)\n",
        "  x = emb.view(emb.shape[0], -1) # concat into (N, block_size * n_embd)\n",
        "  for layer in layers:\n",
        "    x = layer(x)\n",
        "  loss = F.cross_entropy(x, y)\n",
        "  '''\n",
        "  logits = model(x)\n",
        "  loss = F.cross_entropy(logits, y)\n",
        "  print(split, loss.item())\n",
        "\n",
        "split_loss('train')\n",
        "split_loss('val')"
      ],
      "metadata": {
        "colab": {
          "base_uri": "https://localhost:8080/"
        },
        "id": "ut3lB2uPUj46",
        "outputId": "a2f34f14-09c5-41e4-a360-0da1e67ca7cd"
      },
      "execution_count": 51,
      "outputs": [
        {
          "output_type": "stream",
          "name": "stdout",
          "text": [
            "train 1.7673869132995605\n",
            "val 1.9882043600082397\n"
          ]
        }
      ]
    },
    {
      "cell_type": "code",
      "source": [
        "# sample from the model\n",
        "\n",
        "for _ in range(20):\n",
        "\n",
        "    out = []\n",
        "    context = [0] * block_size # initialize with all ...\n",
        "    while True:\n",
        "      # forward pass\n",
        "      '''\n",
        "      emb = C[torch.tensor([context])] # (1, block_size, d)\n",
        "      x = emb.view(emb.shape[0], -1)\n",
        "      for layer in layers:\n",
        "        x = layer(x)\n",
        "      logits = x\n",
        "      '''\n",
        "      logits = model(torch.tensor([context]))\n",
        "      # sample\n",
        "      probs = F.softmax(logits, dim=1)\n",
        "      idx = torch.multinomial(probs, num_samples=1).item()\n",
        "      context = context[1:] + [idx]\n",
        "      out.append(idx)\n",
        "      if idx == 0:\n",
        "        break\n",
        "\n",
        "    print(''.join(itos[i] for i in out))"
      ],
      "metadata": {
        "colab": {
          "base_uri": "https://localhost:8080/"
        },
        "id": "WzAhvOPFVYLx",
        "outputId": "273bbbd6-103f-4e4d-f718-b5f280e2cd96"
      },
      "execution_count": 56,
      "outputs": [
        {
          "output_type": "stream",
          "name": "stdout",
          "text": [
            "anjalyce.\n",
            "meliana.\n",
            "herppere.\n",
            "mackley.\n",
            "cra.\n",
            "orian.\n",
            "ariyano.\n",
            "hemere.\n",
            "simun.\n",
            "alexi.\n",
            "taklyn.\n",
            "alyse.\n",
            "haydan.\n",
            "macaona.\n",
            "esteal.\n",
            "avneya.\n",
            "mariyah.\n",
            "dinai.\n",
            "laislyn.\n",
            "emenna.\n"
          ]
        }
      ]
    },
    {
      "cell_type": "code",
      "source": [],
      "metadata": {
        "id": "vVMd8DNyXd4r"
      },
      "execution_count": null,
      "outputs": []
    }
  ]
}